{
 "cells": [
  {
   "cell_type": "code",
   "execution_count": 1,
   "id": "4d2c63cf",
   "metadata": {},
   "outputs": [
    {
     "name": "stdout",
     "output_type": "stream",
     "text": [
      "Hi!\n"
     ]
    }
   ],
   "source": [
    "print(\"Hi!\")"
   ]
  },
  {
   "cell_type": "markdown",
   "id": "0b26555e",
   "metadata": {},
   "source": [
    "Hi, I’m Shaheena Begum! I worked as  a Tech admin/instructor at a private school, where I managed school technology systems, supported staff with IT needs, and taught students the basics of computers and digital tools. After that I worked as an ETL Developer, where I was responsible for collecting data from different sources, transforming it into a useful format, and loading it into databases so it could be used for reporting and analysis. I’m looking forward to learning, growing my skills, and starting a meaningful and  rewarding career in the data field. "
   ]
  }
 ],
 "metadata": {
  "kernelspec": {
   "display_name": "Python 3",
   "language": "python",
   "name": "python3"
  },
  "language_info": {
   "codemirror_mode": {
    "name": "ipython",
    "version": 3
   },
   "file_extension": ".py",
   "mimetype": "text/x-python",
   "name": "python",
   "nbconvert_exporter": "python",
   "pygments_lexer": "ipython3",
   "version": "3.12.10"
  }
 },
 "nbformat": 4,
 "nbformat_minor": 5
}
